{
 "cells": [
  {
   "cell_type": "code",
   "execution_count": 1,
   "id": "37fdfead-5743-4917-a940-9aef6e339c61",
   "metadata": {},
   "outputs": [
    {
     "name": "stderr",
     "output_type": "stream",
     "text": [
      "Setting default log level to \"WARN\".\n",
      "To adjust logging level use sc.setLogLevel(newLevel). For SparkR, use setLogLevel(newLevel).\n",
      "24/03/13 22:00:55 WARN NativeCodeLoader: Unable to load native-hadoop library for your platform... using builtin-java classes where applicable\n"
     ]
    }
   ],
   "source": [
    "from pyspark.sql import SparkSession\n",
    "import h5py\n",
    "import os\n",
    "from pyspark import SparkContext\n",
    "from pyspark.sql import SparkSession, SQLContext\n",
    "import time\n",
    "from pyspark.sql.functions import col, count\n",
    "from pyspark.sql.functions import col, countDistinct\n",
    "\n",
    "spark = SparkSession.builder \\\n",
    "    .master(\"spark://master:7077\")\\\n",
    "    .appName(\"My PySpark Application\") \\\n",
    "    .config(\"spark.cores.max\", 4)\\\n",
    "    .getOrCreate()\n",
    "\n",
    "\n",
    "start_time = time.time()\n"
   ]
  },
  {
   "cell_type": "code",
   "execution_count": 2,
   "id": "6b849b11-83e8-45d9-8695-bf6912ca0d83",
   "metadata": {
    "scrolled": true
   },
   "outputs": [
    {
     "name": "stderr",
     "output_type": "stream",
     "text": [
      "[Stage 2:>                                                          (0 + 1) / 1]\r"
     ]
    },
    {
     "name": "stdout",
     "output_type": "stream",
     "text": [
      "+--------------------+--------------------+--------------------+--------------------+-------+\n",
      "|              SongID|               Title|          ArtistName|         Artist_mbid|Country|\n",
      "+--------------------+--------------------+--------------------+--------------------+-------+\n",
      "|b'SOOIAPL12AB018C...|    b'Amsterdamaged'|          b'Humanzi'|838b705b-2389-4de...|     IE|\n",
      "|b'SOBYHQA12AB0185...|\"b\"\"Do Somethin' ...|b'Mighty Mighty B...|779353f3-6401-4cd...|     US|\n",
      "|b'SOTOMJM12A8C134...|    b'Milkcow Blues'|        b'Aerosmith'|3d2b98e5-556f-445...|     US|\n",
      "|b'SOQATPT12AB0189...|        b'Mo lanmou'|b'Patrick Saint-E...|04559f8d-79ee-492...|     GP|\n",
      "|b'SOPQXKA12AB0186...|b'Room At The Bot...|   b'Vince Guaraldi'|05b5488d-7141-4b2...|     US|\n",
      "|b'SOOXNKG12A58A7C...|b'Someone Believe...|     b'Cindy Morgan'|84abfd2a-89a1-4eb...|     US|\n",
      "|b'SOZMQND12A58A7D...|b'A Castle In The...|    b'Marty Robbins'|2c2add7c-9a99-481...|     US|\n",
      "|b'SOSZDPD12A6D4F6...|b'Entre Autre Pas...|  b'Isabelle Adjani'|b7e9b00d-328e-4be...|     FR|\n",
      "|b'SOXMMST12AB017F...|b'Follow The Leader'|  b'Eric B. & Rakim'|925228de-bbe5-4c7...|     US|\n",
      "|b'SOCJJDX12A8C13E...|          b'Rudeboy'|            b'Aswad'|617f2574-c2bd-4e3...|     GB|\n",
      "|b'SOZYQQT12A8C13B...|b'Agenda Zwei Nul...|b'Django As\\xc3\\x...|2b7a5be3-3fcc-445...|     DE|\n",
      "|b'SODOOMF12AB018D...|\"b\"\"This is My Fa...|             b'Glad'|16cea8ac-a655-450...|     US|\n",
      "|b'SOAQHFF12A8C139...|          b'Shut Up'| b'Pretty Boy Floyd'|708ac406-ddb1-45c...|     CA|\n",
      "|b'SOXFSTR12A8AE46...|  b'The Small Print'|             b'Muse'|fd857293-5ab8-40d...|     FR|\n",
      "|b'SOFTUGY12A6D4F2...|           b'Easily'|           b'Vivian'|b741b38e-9019-4aa...|     CH|\n",
      "|b'SOPEEDH12A58A7C...|b'Termites in the...|            b'Dntel'|1517c06e-2fe2-452...|     US|\n",
      "|b'SOGQDUA12A67021...|b'I Dunno (LP Ver...|b'Georgia Satelli...|8444928a-9292-4b6...|     US|\n",
      "|b'SOQNFQI12AB0188...|    b'Mine All Mine'|     b'Jimmy Wakely'|0b8f67b3-b1d8-4d7...|     US|\n",
      "|b'SOKGHWU12A6D4FB...|\"b\"\"Paper Aeropla...|      b'KT Tunstall'|951d2103-9c7d-484...|     GB|\n",
      "|b'SOJDURH12AB0188...|    b'Irapijerkifly'|             b'Izzy'|7895507e-7b72-44d...|     NZ|\n",
      "+--------------------+--------------------+--------------------+--------------------+-------+\n",
      "only showing top 20 rows\n",
      "\n"
     ]
    },
    {
     "name": "stderr",
     "output_type": "stream",
     "text": [
      "                                                                                \r"
     ]
    }
   ],
   "source": [
    "from pyspark.sql.functions import col\n",
    "\n",
    "#  path to file in HDFS\n",
    "#hdfs_path = \"hdfs://master:9000/user/ubuntu/data/duplicated_dataset.csv\"\n",
    "hdfs_path = \"hdfs://master:9000/user/ubuntu/data/quadruple_dataset.csv\"\n",
    "#hdfs_path = \"hdfs://master:9000/user/ubuntu/data/processedDataWithCountry.csv\"\n",
    "\n",
    "# Read the CSV file into a DataFrame\n",
    "df = spark.read.csv(hdfs_path, header=True, inferSchema=True)\n",
    "\n",
    "# Filter out rows with null or \"Failed to retrieve\" country values\n",
    "filtered_df = df.filter((col(\"Country\") != \"NULL\") & (col(\"Country\") != \"Failed to retrieve information\"))\n",
    "\n",
    "# Show the first few rows of the DataFrame\n",
    "filtered_df.show()\n",
    "\n"
   ]
  },
  {
   "cell_type": "code",
   "execution_count": 3,
   "id": "a04d1335-2873-4458-915a-9070c3b18352",
   "metadata": {},
   "outputs": [
    {
     "name": "stderr",
     "output_type": "stream",
     "text": [
      "[Stage 3:>                                                          (0 + 1) / 1]\r"
     ]
    },
    {
     "name": "stdout",
     "output_type": "stream",
     "text": [
      "+-------+-----------+\n",
      "|Country|ArtistCount|\n",
      "+-------+-----------+\n",
      "|     US|       1776|\n",
      "|     GB|        374|\n",
      "|     FR|        133|\n",
      "|     DE|        111|\n",
      "|     CA|         90|\n",
      "|     JM|         86|\n",
      "|     ES|         78|\n",
      "|     BR|         66|\n",
      "|     AR|         48|\n",
      "|     SE|         47|\n",
      "+-------+-----------+\n",
      "only showing top 10 rows\n",
      "\n"
     ]
    },
    {
     "name": "stderr",
     "output_type": "stream",
     "text": [
      "                                                                                \r"
     ]
    }
   ],
   "source": [
    "#What countries have the most artists? Top 10\n",
    "\n",
    "# Group by 'Country' and count distinct artists\n",
    "country_artists_count = filtered_df.groupBy('Country').agg(countDistinct('ArtistName').alias('ArtistCount')) \\\n",
    "    .orderBy(col('ArtistCount').desc())\n",
    "\n",
    "# Show top 10 countries with the most artists\n",
    "country_artists_count.show(10)"
   ]
  },
  {
   "cell_type": "code",
   "execution_count": 4,
   "id": "abba0290-273a-4d57-8d18-65b0fc92ed81",
   "metadata": {},
   "outputs": [
    {
     "name": "stderr",
     "output_type": "stream",
     "text": [
      "[Stage 9:>                                                          (0 + 1) / 1]\r"
     ]
    },
    {
     "name": "stdout",
     "output_type": "stream",
     "text": [
      "+--------------------+---------+\n",
      "|          ArtistName|SongCount|\n",
      "+--------------------+---------+\n",
      "|        b'Aerosmith'|       48|\n",
      "|     b'Phil Collins'|       48|\n",
      "|b'The Jackson Sou...|       48|\n",
      "|     b'Sugar Minott'|       48|\n",
      "|      b'Snow Patrol'|       44|\n",
      "|        b'Radiohead'|       44|\n",
      "|      b'Line Renaud'|       44|\n",
      "|      b'Mikey Dread'|       44|\n",
      "|b'Nick Cave & The...|       44|\n",
      "|              b'Ayo'|       40|\n",
      "+--------------------+---------+\n",
      "only showing top 10 rows\n",
      "\n"
     ]
    },
    {
     "name": "stderr",
     "output_type": "stream",
     "text": [
      "                                                                                \r"
     ]
    }
   ],
   "source": [
    "#What artists have the most songs?  Top 10?\n",
    "\n",
    "# Group by 'ArtistName' and count the number of songs\n",
    "artist_song_count = filtered_df.groupBy('ArtistName') \\\n",
    "    .agg(count('SongID').alias('SongCount')) \\\n",
    "    .orderBy(col('SongCount').desc())\n",
    "\n",
    "# Show top 10 artists with the most songs\n",
    "artist_song_count.show(10)\n"
   ]
  },
  {
   "cell_type": "code",
   "execution_count": 5,
   "id": "c8a142b4-e420-4765-8c09-5c6350cd42a1",
   "metadata": {},
   "outputs": [
    {
     "name": "stderr",
     "output_type": "stream",
     "text": [
      "[Stage 12:>                                                         (0 + 1) / 1]\r"
     ]
    },
    {
     "name": "stdout",
     "output_type": "stream",
     "text": [
      "+-------+---------+\n",
      "|Country|SongCount|\n",
      "+-------+---------+\n",
      "|     US|    17012|\n",
      "|     GB|     3820|\n",
      "|     FR|     1388|\n",
      "|     DE|     1128|\n",
      "|     JM|      992|\n",
      "|     CA|      784|\n",
      "|     ES|      728|\n",
      "|     BR|      616|\n",
      "|     AR|      552|\n",
      "|     FI|      384|\n",
      "+-------+---------+\n",
      "only showing top 10 rows\n",
      "\n"
     ]
    },
    {
     "name": "stderr",
     "output_type": "stream",
     "text": [
      "                                                                                \r"
     ]
    }
   ],
   "source": [
    "#What countries have the most songs? Top 10\n",
    "\n",
    "# Group by 'Country' and count the number of songs\n",
    "country_song_count = filtered_df.groupBy('Country') \\\n",
    "    .agg(count('SongID').alias('SongCount')) \\\n",
    "    .orderBy(col('SongCount').desc())\n",
    "\n",
    "# Show top 10 countries with the most songs\n",
    "country_song_count.show(10)\n"
   ]
  },
  {
   "cell_type": "code",
   "execution_count": 6,
   "id": "364cfa82-5aa2-4b3c-8150-810d3587d2b1",
   "metadata": {},
   "outputs": [
    {
     "name": "stdout",
     "output_type": "stream",
     "text": [
      "Time taken: 23.147552490234375 seconds\n"
     ]
    }
   ],
   "source": [
    "#Caluclate the time \n",
    "end_time = time.time()\n",
    "elapsed_time = end_time - start_time\n",
    "\n",
    "print(\"Time taken:\", elapsed_time, \"seconds\")"
   ]
  },
  {
   "cell_type": "code",
   "execution_count": 7,
   "id": "3086e30e-ead5-4caf-b328-b41c5387687b",
   "metadata": {},
   "outputs": [],
   "source": [
    "spark.stop()"
   ]
  }
 ],
 "metadata": {
  "kernelspec": {
   "display_name": "Python 3 (ipykernel)",
   "language": "python",
   "name": "python3"
  },
  "language_info": {
   "codemirror_mode": {
    "name": "ipython",
    "version": 3
   },
   "file_extension": ".py",
   "mimetype": "text/x-python",
   "name": "python",
   "nbconvert_exporter": "python",
   "pygments_lexer": "ipython3",
   "version": "3.8.10"
  }
 },
 "nbformat": 4,
 "nbformat_minor": 5
}
