{
 "cells": [
  {
   "cell_type": "code",
   "execution_count": 1,
   "id": "37fdfead-5743-4917-a940-9aef6e339c61",
   "metadata": {},
   "outputs": [
    {
     "name": "stderr",
     "output_type": "stream",
     "text": [
      "Setting default log level to \"WARN\".\n",
      "To adjust logging level use sc.setLogLevel(newLevel). For SparkR, use setLogLevel(newLevel).\n",
      "24/03/11 14:41:51 WARN NativeCodeLoader: Unable to load native-hadoop library for your platform... using builtin-java classes where applicable\n"
     ]
    }
   ],
   "source": [
    "from pyspark.sql import SparkSession\n",
    "import h5py\n",
    "import os\n",
    "\n",
    "spark = SparkSession.builder \\\n",
    "    .master(\"spark://master:7077\")\\\n",
    "    .appName(\"My PySpark Application\") \\\n",
    "    .getOrCreate()\n",
    "\n",
    "\n",
    "# How \n"
   ]
  },
  {
   "cell_type": "code",
   "execution_count": 31,
   "id": "a04d1335-2873-4458-915a-9070c3b18352",
   "metadata": {},
   "outputs": [
    {
     "name": "stdout",
     "output_type": "stream",
     "text": [
      "838b705b-2389-4de4-83a9-f5e970b2a7ef\n",
      "IE\n",
      "779353f3-6401-4cda-a8a2-6fd3ec9bc11b\n",
      "US\n",
      "3d2b98e5-556f-4451-a3ff-c50ea18d57cb\n",
      "US\n",
      "04559f8d-79ee-4922-8365-6f0306bd538d\n",
      "GP\n",
      "e40f8007-07cd-439f-b3cf-27104f146420\n",
      "None\n",
      "{}\n"
     ]
    }
   ],
   "source": [
    "import requests\n",
    "\n",
    "country_cache = {}\n",
    "\n",
    "def get_artist_country_by_mbid(mbid):\n",
    "    # Construct the URL with the artist's MBID\n",
    "    url = f\"https://musicbrainz.org/ws/2/artist/{mbid}?fmt=json\"\n",
    "\n",
    "    # Make the GET request\n",
    "    response = requests.get(url)\n",
    "    \n",
    "    # Check if the request was successful\n",
    "    if response.status_code == 200:\n",
    "        data = response.json()\n",
    "        # Extract the country from the response\n",
    "        country = data.get('country', 'Country information not available')\n",
    "        country_cache[mbid] = country  # Cache the result\n",
    "        return country\n",
    "    else:\n",
    "        return 'Failed to retrieve information'\n",
    "\n",
    "# Load your dataset\n",
    "df = pd.read_csv('your_output.csv')\n",
    "\n",
    "# Add a new column for the country, initialized to 'Unknown'\n",
    "df['Country'] = 'Unknown'\n",
    "test_df = df.head(5)\n",
    "\n",
    "# Update the country column based on the artist MBID\n",
    "for index, row in test_df.iterrows():\n",
    "    mbid = row['Artist_mbid']\n",
    "    print(mbid)\n",
    "    country = get_artist_country_by_mbid(mbid)\n",
    "    print(country)\n",
    "    df.at[index, 'Country'] = country\n",
    "    time.sleep(1)  # To respect the rate limit of MusicBrainz API\n",
    "\n",
    "# Save the updated DataFrame to a new CSV file\n",
    "df.to_csv('your_updated_dataset.csv', index=False)\n",
    "\n",
    "print(country_cache)"
   ]
  },
  {
   "cell_type": "code",
   "execution_count": 27,
   "id": "abba0290-273a-4d57-8d18-65b0fc92ed81",
   "metadata": {},
   "outputs": [
    {
     "name": "stdout",
     "output_type": "stream",
     "text": [
      "400\n",
      "The country for the artist with MBID 0383dadf-2a4e-4d10-a46a-e9e041da8eb3 is: Failed to retrieve information\n"
     ]
    }
   ],
   "source": [
    "import pandas as pd\n",
    "import requests\n",
    "import time \n",
    "\n",
    "country_cache = {}\n",
    "\n",
    "def get_artist_country_by_mbid(mbid):\n",
    "    # Construct the URL with the artist's MBID\n",
    "    mbid = mbid[2:-1]\n",
    "        \n",
    "    if mbid in country_cache:\n",
    "        return country_cache[mbid]\n",
    "        \n",
    "    url = f\"https://musicbrainz.org/ws/2/artist/{mbid}?fmt=json\"\n",
    "\n",
    "    headers = {\n",
    "        'User-Agent': 'MyMusicApp/1.0 ( kajsa.uhrenius@gmail.com )'  # Replace with your app's information\n",
    "    }\n",
    "    \n",
    "    # Make the GET request with headers\n",
    "    response = requests.get(url, headers=headers)\n",
    "    print(response.status_code)\n",
    "    \n",
    "    # Make the GET request\n",
    "    #response = requests.get(url)\n",
    "    \n",
    "    # Check if the request was successful\n",
    "    if response.status_code == 200:\n",
    "        data = response.json()\n",
    "        # Extract the country from the response\n",
    "        country = data.get('country', 'Country information not available')\n",
    "\n",
    "        country_cache[mbid] = country  # Cache the result\n",
    "        return country\n",
    "            \n",
    "    else:\n",
    "        return 'Failed to retrieve information'\n",
    "\n",
    "# Example MBID for an artist\n",
    "mbid = '0383dadf-2a4e-4d10-a46a-e9e041da8eb3'  # This is an example MBID, replace it with your actual MBID\n",
    "\n",
    "# Get the artist's country\n",
    "country = get_artist_country_by_mbid(mbid)\n",
    "print(f\"The country for the artist with MBID {mbid} is: {country}\")\n",
    "\n",
    "\n"
   ]
  },
  {
   "cell_type": "code",
   "execution_count": 2,
   "id": "c8a142b4-e420-4765-8c09-5c6350cd42a1",
   "metadata": {},
   "outputs": [],
   "source": [
    "# Load your dataset\n",
    "df = pd.read_csv('your_output.csv')\n",
    "\n",
    "# Add a new column for the country, initialized to 'Unknown'\n",
    "df['Country'] = 'Unknown'\n",
    "test_df = df.head(5)\n",
    "\n",
    "# Update the country column based on the artist MBID\n",
    "for index, row in test_df.iterrows():\n",
    "    mbid = row['Artist_mbid']\n",
    "    print(mbid)\n",
    "    country = get_artist_country_by_mbid(mbid)\n",
    "    print(country)\n",
    "    df.at[index, 'Country'] = country\n",
    "    time.sleep(1)  # To respect the rate limit of MusicBrainz API\n",
    "\n",
    "# Save the updated DataFrame to a new CSV file\n",
    "df.to_csv('your_updated_dataset.csv', index=False)\n",
    "\n",
    "print(country_cache)\n"
   ]
  },
  {
   "cell_type": "code",
   "execution_count": 3,
   "id": "364cfa82-5aa2-4b3c-8150-810d3587d2b1",
   "metadata": {},
   "outputs": [],
   "source": [
    "\n"
   ]
  },
  {
   "cell_type": "code",
   "execution_count": null,
   "id": "3086e30e-ead5-4caf-b328-b41c5387687b",
   "metadata": {},
   "outputs": [],
   "source": []
  }
 ],
 "metadata": {
  "kernelspec": {
   "display_name": "Python 3 (ipykernel)",
   "language": "python",
   "name": "python3"
  },
  "language_info": {
   "codemirror_mode": {
    "name": "ipython",
    "version": 3
   },
   "file_extension": ".py",
   "mimetype": "text/x-python",
   "name": "python",
   "nbconvert_exporter": "python",
   "pygments_lexer": "ipython3",
   "version": "3.8.10"
  }
 },
 "nbformat": 4,
 "nbformat_minor": 5
}
