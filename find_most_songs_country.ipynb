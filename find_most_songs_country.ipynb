{
 "cells": [
  {
   "cell_type": "code",
   "execution_count": 1,
   "id": "37fdfead-5743-4917-a940-9aef6e339c61",
   "metadata": {},
   "outputs": [
    {
     "name": "stderr",
     "output_type": "stream",
     "text": [
      "Setting default log level to \"WARN\".\n",
      "To adjust logging level use sc.setLogLevel(newLevel). For SparkR, use setLogLevel(newLevel).\n",
      "24/03/07 15:55:45 WARN NativeCodeLoader: Unable to load native-hadoop library for your platform... using builtin-java classes where applicable\n"
     ]
    }
   ],
   "source": [
    "from pyspark.sql import SparkSession\n",
    "import h5py\n",
    "import os\n",
    "\n",
    "spark = SparkSession.builder \\\n",
    "    .master(\"spark://master:7077\")\\\n",
    "    .appName(\"My PySpark Application\") \\\n",
    "    .getOrCreate()\n",
    "\n",
    "\n",
    "# How \n"
   ]
  },
  {
   "cell_type": "code",
   "execution_count": null,
   "id": "abba0290-273a-4d57-8d18-65b0fc92ed81",
   "metadata": {},
   "outputs": [],
   "source": [
    "import os\n",
    "import glob\n",
    "import utils\n",
    "\n",
    "def get_all_titles(basedir,ext='.h5') :\n",
    "    titles = []\n",
    "    for root, dirs, files in os.walk(basedir):\n",
    "        files = glob.glob(os.path.join(root,'*'+ext))\n",
    "        for f in files:\n",
    "            h5 = utils.open_h5_file_read(f)\n",
    "            titles.append( utils.get_title(h5) )\n",
    "            h5.close()\n",
    "    return titles\n",
    "\n",
    "\n",
    "\n",
    "\n",
    "test = get_all_titles(\"dataset\")\n",
    "\n",
    "print(test)\n",
    "\n",
    "\n",
    "\n",
    "\n",
    "\n"
   ]
  },
  {
   "cell_type": "code",
   "execution_count": null,
   "id": "c8a142b4-e420-4765-8c09-5c6350cd42a1",
   "metadata": {},
   "outputs": [],
   "source": [
    "# What countries have the most artists? Top 10?\n",
    "# What artists have the most songs?  Top 10?\n",
    "# What countries have the most songs? Top 10?\n"
   ]
  }
 ],
 "metadata": {
  "kernelspec": {
   "display_name": "Python 3 (ipykernel)",
   "language": "python",
   "name": "python3"
  },
  "language_info": {
   "codemirror_mode": {
    "name": "ipython",
    "version": 3
   },
   "file_extension": ".py",
   "mimetype": "text/x-python",
   "name": "python",
   "nbconvert_exporter": "python",
   "pygments_lexer": "ipython3",
   "version": "3.8.10"
  }
 },
 "nbformat": 4,
 "nbformat_minor": 5
}
